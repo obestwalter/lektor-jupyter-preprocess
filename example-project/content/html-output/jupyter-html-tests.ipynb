{
 "cells": [
  {
   "cell_type": "raw",
   "source": [
    "title: About this Website\n",
    "---\n",
    "body:\n"
   ],
   "metadata": {
    "collapsed": false
   }
  },
  {
   "cell_type": "code",
   "execution_count": 3,
   "metadata": {
    "pycharm": {
     "name": "#%%\n"
    }
   },
   "outputs": [
    {
     "data": {
      "text/plain": [
       "[<matplotlib.lines.Line2D at 0x7fcefc997c88>]"
      ]
     },
     "execution_count": 3,
     "metadata": {},
     "output_type": "execute_result"
    },
    {
     "data": {
      "image/png": "[encoded data removed]",
      "text/plain": [
       "<Figure size 432x288 with 1 Axes>"
      ]
     },
     "metadata": {
      "needs_background": "light"
     },
     "output_type": "display_data"
    }
   ],
   "source": [
    "%matplotlib inline\n",
    "\n",
    "import matplotlib.pyplot as plt\n",
    "import numpy as np\n",
    "\n",
    "timestamps = np.arange(0.0,1.0,0.02)\n",
    "\n",
    "frequency = 1  # don't mind me ... yet\n",
    "\n",
    "from matplotlib import pyplot as plt\n",
    "\n",
    "plt.plot(timestamps,np.sin(2 * np.pi * timestamps * frequency))"
   ]
  },
  {
   "cell_type": "code",
   "execution_count": 15,
   "metadata": {
    "code_folding": [],
    "slideshow": {
     "slide_type": "fragment"
    }
   },
   "outputs": [
    {
     "data": {
      "text/html": [
       "<div style=\"width:100%;\"><div style=\"position:relative;width:100%;height:0;padding-bottom:60%;\"><iframe src=\"data:text/html;charset=utf-8;base64,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\" style=\"position:absolute;width:100%;height:100%;left:0;top:0;border:none !important;\" allowfullscreen webkitallowfullscreen mozallowfullscreen></iframe></div></div>"
      ],
      "text/plain": [
       "<folium.folium.Map at 0x7fcef5a4a7f0>"
      ]
     },
     "execution_count": 15,
     "metadata": {},
     "output_type": "execute_result"
    }
   ],
   "source": [
    "!pip install folium 2&> /dev/null\n",
    "import folium\n",
    "mymap = folium.Map(location=[47.784320, 9.609830], zoom_start=11, width=640, height=480, tiles='Stamen Terrain')"
   ]
  },
  {
   "cell_type": "code",
   "execution_count": 8,
   "metadata": {
    "slideshow": {
     "slide_type": ""
    }
   },
   "outputs": [
    {
     "data": {
      "image/svg+xml": [
       "<?xml version=\"1.0\" encoding=\"UTF-8\" standalone=\"no\"?>\n",
       "<!DOCTYPE svg PUBLIC \"-//W3C//DTD SVG 1.1//EN\"\n",
       " \"http://www.w3.org/Graphics/SVG/1.1/DTD/svg11.dtd\">\n",
       "<!-- Generated by graphviz version 2.43.20190912.0211 (20190912.0211)\n",
       " -->\n",
       "<!-- Title: finite_state_machine Pages: 1 -->\n",
       "<svg width=\"395pt\" height=\"199pt\"\n",
       " viewBox=\"0.00 0.00 394.78 198.59\" xmlns=\"http://www.w3.org/2000/svg\" xmlns:xlink=\"http://www.w3.org/1999/xlink\">\n",
       "<g id=\"graph0\" class=\"graph\" transform=\"scale(1 1) rotate(0) translate(4 194.59)\">\n",
       "<title>finite_state_machine</title>\n",
       "<polygon fill=\"white\" stroke=\"transparent\" points=\"-4,4 -4,-194.59 390.78,-194.59 390.78,4 -4,4\"/>\n",
       "<!-- LR_0 -->\n",
       "<g id=\"node1\" class=\"node\">\n",
       "<title>LR_0</title>\n",
       "<ellipse fill=\"none\" stroke=\"black\" cx=\"37.8\" cy=\"-80.8\" rx=\"33.62\" ry=\"33.62\"/>\n",
       "<ellipse fill=\"none\" stroke=\"black\" cx=\"37.8\" cy=\"-80.8\" rx=\"37.6\" ry=\"37.6\"/>\n",
       "<text text-anchor=\"middle\" x=\"37.8\" y=\"-77.1\" font-family=\"Times,serif\" font-size=\"14.00\">LR_0</text>\n",
       "</g>\n",
       "<!-- LR_2 -->\n",
       "<g id=\"node3\" class=\"node\">\n",
       "<title>LR_2</title>\n",
       "<ellipse fill=\"none\" stroke=\"black\" cx=\"185.39\" cy=\"-123.8\" rx=\"33.6\" ry=\"33.6\"/>\n",
       "<text text-anchor=\"middle\" x=\"185.39\" y=\"-120.1\" font-family=\"Times,serif\" font-size=\"14.00\">LR_2</text>\n",
       "</g>\n",
       "<!-- LR_0&#45;&gt;LR_2 -->\n",
       "<g id=\"edge1\" class=\"edge\">\n",
       "<title>LR_0&#45;&gt;LR_2</title>\n",
       "<path fill=\"none\" stroke=\"black\" d=\"M74.41,-91.32C95.05,-97.41 121.14,-105.12 142.73,-111.49\"/>\n",
       "<polygon fill=\"black\" stroke=\"black\" points=\"142.03,-114.94 152.61,-114.41 144.01,-108.22 142.03,-114.94\"/>\n",
       "<text text-anchor=\"middle\" x=\"113.59\" y=\"-111.6\" font-family=\"Times,serif\" font-size=\"14.00\">SS(B)</text>\n",
       "</g>\n",
       "<!-- LR_1 -->\n",
       "<g id=\"node4\" class=\"node\">\n",
       "<title>LR_1</title>\n",
       "<ellipse fill=\"none\" stroke=\"black\" cx=\"185.39\" cy=\"-37.8\" rx=\"33.6\" ry=\"33.6\"/>\n",
       "<text text-anchor=\"middle\" x=\"185.39\" y=\"-34.1\" font-family=\"Times,serif\" font-size=\"14.00\">LR_1</text>\n",
       "</g>\n",
       "<!-- LR_0&#45;&gt;LR_1 -->\n",
       "<g id=\"edge2\" class=\"edge\">\n",
       "<title>LR_0&#45;&gt;LR_1</title>\n",
       "<path fill=\"none\" stroke=\"black\" d=\"M74.41,-70.28C95.05,-64.18 121.14,-56.48 142.73,-50.1\"/>\n",
       "<polygon fill=\"black\" stroke=\"black\" points=\"144.01,-53.37 152.61,-47.18 142.03,-46.66 144.01,-53.37\"/>\n",
       "<text text-anchor=\"middle\" x=\"113.59\" y=\"-68.6\" font-family=\"Times,serif\" font-size=\"14.00\">SS(S)</text>\n",
       "</g>\n",
       "<!-- LR_3 -->\n",
       "<g id=\"node2\" class=\"node\">\n",
       "<title>LR_3</title>\n",
       "<ellipse fill=\"none\" stroke=\"black\" cx=\"348.99\" cy=\"-37.8\" rx=\"33.62\" ry=\"33.62\"/>\n",
       "<ellipse fill=\"none\" stroke=\"black\" cx=\"348.99\" cy=\"-37.8\" rx=\"37.6\" ry=\"37.6\"/>\n",
       "<text text-anchor=\"middle\" x=\"348.99\" y=\"-34.1\" font-family=\"Times,serif\" font-size=\"14.00\">LR_3</text>\n",
       "</g>\n",
       "<!-- LR_2&#45;&gt;LR_2 -->\n",
       "<g id=\"edge4\" class=\"edge\">\n",
       "<title>LR_2&#45;&gt;LR_2</title>\n",
       "<path fill=\"none\" stroke=\"black\" d=\"M172.28,-155.15C172,-166.41 176.37,-175.59 185.39,-175.59 191.45,-175.59 195.42,-171.45 197.28,-165.31\"/>\n",
       "<polygon fill=\"black\" stroke=\"black\" points=\"200.78,-165.5 198.5,-155.15 193.83,-164.66 200.78,-165.5\"/>\n",
       "<text text-anchor=\"middle\" x=\"185.39\" y=\"-179.39\" font-family=\"Times,serif\" font-size=\"14.00\">SS(b)</text>\n",
       "</g>\n",
       "<!-- LR_1&#45;&gt;LR_3 -->\n",
       "<g id=\"edge3\" class=\"edge\">\n",
       "<title>LR_1&#45;&gt;LR_3</title>\n",
       "<path fill=\"none\" stroke=\"black\" d=\"M219.48,-37.8C242.96,-37.8 274.81,-37.8 300.92,-37.8\"/>\n",
       "<polygon fill=\"black\" stroke=\"black\" points=\"300.99,-41.3 310.99,-37.8 300.99,-34.3 300.99,-41.3\"/>\n",
       "<text text-anchor=\"middle\" x=\"265.19\" y=\"-41.6\" font-family=\"Times,serif\" font-size=\"14.00\">S($end)</text>\n",
       "</g>\n",
       "</g>\n",
       "</svg>\n"
      ],
      "text/plain": [
       "<graphviz.dot.Digraph at 0x7fcef6cc9ba8>"
      ]
     },
     "execution_count": 8,
     "metadata": {},
     "output_type": "execute_result"
    }
   ],
   "source": [
    "# http://www.graphviz.org/content/fsm\n",
    "from graphviz import Digraph\n",
    "\n",
    "g = Digraph('finite_state_machine')\n",
    "g.attr(rankdir='LR', size='8,5')\n",
    "g.attr('node', shape='doublecircle')\n",
    "\n",
    "g.node('LR_0')\n",
    "g.node('LR_3')\n",
    "\n",
    "g.attr('node', shape='circle')\n",
    "g.edge('LR_0', 'LR_2', label='SS(B)')\n",
    "g.edge('LR_0', 'LR_1', label='SS(S)')\n",
    "g.edge('LR_1', 'LR_3', label='S($end)')\n",
    "g.edge('LR_2', 'LR_2', label='SS(b)')\n",
    "g"
   ]
  },
  {
   "cell_type": "code",
   "execution_count": 9,
   "metadata": {
    "slideshow": {
     "slide_type": ""
    }
   },
   "outputs": [
    {
     "data": {
      "image/png": "[encoded data removed]",
      "text/plain": [
       "<Figure size 246.78x128.97 with 1 Axes>"
      ]
     },
     "metadata": {
      "needs_background": "light"
     },
     "output_type": "display_data"
    }
   ],
   "source": [
    "!pip install schemdraw 2&> /dev/null\n",
    "\n",
    "# https://cdelker.bitbucket.io/SchemDraw/\n",
    "import SchemDraw as schem\n",
    "import SchemDraw.elements as e\n",
    "\n",
    "d = schem.Drawing()\n",
    "V1 = d.add(e.SOURCE_V, label='5V')\n",
    "d.add(e.LINE, d='right', l=d.unit*.75)\n",
    "S1 = d.add(e.SWITCH_SPDT2_CLOSE, d='up', anchor='b', rgtlabel='$t=0$')\n",
    "d.add(e.LINE, d='right', xy=S1.c,  l=d.unit*.75)\n",
    "d.add(e.RES, d='down', label='$100\\Omega$', botlabel=['+','$v_o$','-'])\n",
    "d.add(e.LINE, to=V1.start)\n",
    "d.add(e.CAP, xy=S1.a, d='down', toy=V1.start, label='1$\\mu$F')\n",
    "d.add(e.DOT)\n",
    "d.draw()"
   ]
  },
  {
   "cell_type": "code",
   "execution_count": 10,
   "metadata": {
    "slideshow": {
     "slide_type": ""
    }
   },
   "outputs": [
    {
     "data": {
      "image/png": "[encoded data removed]",
      "text/latex": [
       "$$\\left ( b, \\quad c, \\quad B, \\quad C\\right )$$"
      ],
      "text/plain": [
       "(b, c, B, C)"
      ]
     },
     "execution_count": 10,
     "metadata": {},
     "output_type": "execute_result"
    }
   ],
   "source": [
    "#!pip install sympy 2&> /dev/null\n",
    "\n",
    "from sympy import symbols, init_printing\n",
    "\n",
    "init_printing()\n",
    "b, c, B, C = symbols(['b','c','B','C'])\n",
    "b, c, B, C"
   ]
  },
  {
   "cell_type": "code",
   "execution_count": 11,
   "metadata": {
    "slideshow": {
     "slide_type": "fragment"
    }
   },
   "outputs": [
    {
     "data": {
      "image/png": "[encoded data removed]",
      "text/latex": [
       "$$\\frac{b}{\\sin{\\left (B \\right )}} = \\frac{c}{\\sin{\\left (C \\right )}}$$"
      ],
      "text/plain": [
       "  b        c   \n",
       "────── = ──────\n",
       "sin(B)   sin(C)"
      ]
     },
     "execution_count": 11,
     "metadata": {},
     "output_type": "execute_result"
    }
   ],
   "source": [
    "from sympy import Eq, sin\n",
    "\n",
    "#A simple example of the sine rule\n",
    "expression = Eq(b/sin(B),c/sin(C))"
   ]
  },
  {
   "cell_type": "markdown",
   "metadata": {},
   "source": [
    "# TODO"
   ]
  },
  {
   "cell_type": "code",
   "execution_count": 9,
   "metadata": {
    "slideshow": {
     "slide_type": "fragment"
    }
   },
   "outputs": [
    {
     "name": "stdout",
     "output_type": "stream",
     "text": [
      "\u001b[1;34md\u001b[33mr\u001b[31mw\u001b[32mx\u001b[0m\u001b[33mr\u001b[38;5;244m-\u001b[32mx\u001b[33mr\u001b[38;5;244m-\u001b[32mx\u001b[0m@    \u001b[38;5;244m-\u001b[0m \u001b[1;33mob\u001b[0m \u001b[34m 4 Apr  2018\u001b[0m \u001b[1;34mpython\u001b[0m\r\n",
      ".\u001b[1;33mr\u001b[31mw\u001b[0m\u001b[38;5;244m-\u001b[33mr\u001b[38;5;244m--\u001b[33mr\u001b[38;5;244m--\u001b[0m@  \u001b[1;32m299\u001b[0m \u001b[1;33mob\u001b[0m \u001b[34m 1 Mär  2017\u001b[0m \u001b[38;5;244m├──\u001b[0m a-most-embarrassing-bug.md\r\n",
      ".\u001b[1;33mr\u001b[31mw\u001b[0m\u001b[38;5;244m-\u001b[33mr\u001b[38;5;244m--\u001b[33mr\u001b[38;5;244m--\u001b[0m@  \u001b[1;32m420\u001b[0m \u001b[1;33mob\u001b[0m \u001b[34m17 Feb  2017\u001b[0m \u001b[38;5;244m├──\u001b[0m ipython-notebook.md\r\n",
      ".\u001b[1;33mr\u001b[31mw\u001b[0m\u001b[38;5;244m-\u001b[33mr\u001b[38;5;244m--\u001b[33mr\u001b[38;5;244m--\u001b[0m@ \u001b[1;32m2.9\u001b[0m\u001b[32mk\u001b[0m \u001b[1;33mob\u001b[0m \u001b[34m 4 Jun  2018\u001b[0m \u001b[38;5;244m├──\u001b[0m make-code-maintainable.md\r\n",
      ".\u001b[1;33mr\u001b[31mw\u001b[0m\u001b[38;5;244m-\u001b[33mr\u001b[38;5;244m--\u001b[33mr\u001b[38;5;244m--\u001b[0m@ \u001b[1;32m2.9\u001b[0m\u001b[32mk\u001b[0m \u001b[1;33mob\u001b[0m \u001b[34m20 Mai 13:58\u001b[0m \u001b[38;5;244m├──\u001b[0m matthias-friday-talks.md\r\n",
      "\u001b[1;34md\u001b[33mr\u001b[31mw\u001b[32mx\u001b[0m\u001b[33mr\u001b[38;5;244m-\u001b[32mx\u001b[33mr\u001b[38;5;244m-\u001b[32mx\u001b[0m@    \u001b[38;5;244m-\u001b[0m \u001b[1;33mob\u001b[0m \u001b[34m24 Jun  2018\u001b[0m \u001b[38;5;244m├──\u001b[0m \u001b[1;34mmike-driscol-interview\u001b[0m\r\n",
      ".\u001b[1;33mr\u001b[31mw\u001b[0m\u001b[38;5;244m-\u001b[33mr\u001b[38;5;244m--\u001b[33mr\u001b[38;5;244m--\u001b[0m@  \u001b[1;32m26\u001b[0m\u001b[32mk\u001b[0m \u001b[1;33mob\u001b[0m \u001b[34m15 Jul  2018\u001b[0m \u001b[38;5;244m│  ├──\u001b[0m interview.html\r\n",
      ".\u001b[1;33mr\u001b[31mw\u001b[0m\u001b[38;5;244m-\u001b[33mr\u001b[38;5;244m--\u001b[33mr\u001b[38;5;244m--\u001b[0m@  \u001b[1;32m24\u001b[0m\u001b[32mk\u001b[0m \u001b[1;33mob\u001b[0m \u001b[34m25 Jun  2018\u001b[0m \u001b[38;5;244m│  ├──\u001b[0m \u001b[1;35moliver-bestwalter.jpg\u001b[0m\r\n",
      ".\u001b[1;33mr\u001b[31mw\u001b[0m\u001b[38;5;244m-\u001b[33mr\u001b[38;5;244m--\u001b[33mr\u001b[38;5;244m--\u001b[0m@  \u001b[1;32m75\u001b[0m\u001b[32mk\u001b[0m \u001b[1;33mob\u001b[0m \u001b[34m25 Jun  2018\u001b[0m \u001b[38;5;244m│  ├──\u001b[0m \u001b[1;35molivers-school-band.jpg\u001b[0m\r\n",
      ".\u001b[1;33mr\u001b[31mw\u001b[0m\u001b[38;5;244m-\u001b[33mr\u001b[38;5;244m--\u001b[33mr\u001b[38;5;244m--\u001b[0m@  \u001b[1;32m73\u001b[0m\u001b[32mk\u001b[0m \u001b[1;33mob\u001b[0m \u001b[34m25 Jun  2018\u001b[0m \u001b[38;5;244m│  └──\u001b[0m \u001b[1;35mpytest-sprint-2016.jpg\u001b[0m\r\n",
      ".\u001b[1;33mr\u001b[31mw\u001b[0m\u001b[38;5;244m-\u001b[33mr\u001b[38;5;244m--\u001b[33mr\u001b[38;5;244m--\u001b[0m@ \u001b[1;32m4.1\u001b[0m\u001b[32mk\u001b[0m \u001b[1;33mob\u001b[0m \u001b[34m 4 Jun  2018\u001b[0m \u001b[38;5;244m├──\u001b[0m my-personal-style-guide.md\r\n",
      ".\u001b[1;33mr\u001b[31mw\u001b[0m\u001b[38;5;244m-\u001b[33mr\u001b[38;5;244m--\u001b[33mr\u001b[38;5;244m--\u001b[0m@  \u001b[1;32m363\u001b[0m \u001b[1;33mob\u001b[0m \u001b[34m 4 Apr  2018\u001b[0m \u001b[38;5;244m├──\u001b[0m paths-equal-pain.md\r\n",
      ".\u001b[1;33mr\u001b[31mw\u001b[0m\u001b[38;5;244m-\u001b[33mr\u001b[38;5;244m--\u001b[33mr\u001b[38;5;244m--\u001b[0m@  \u001b[1;32m219\u001b[0m \u001b[1;33mob\u001b[0m \u001b[34m 6 Apr  2018\u001b[0m \u001b[38;5;244m├──\u001b[0m pluggy-as-a-concept.md\r\n",
      ".\u001b[1;33mr\u001b[31mw\u001b[0m\u001b[38;5;244m-\u001b[33mr\u001b[38;5;244m--\u001b[33mr\u001b[38;5;244m--\u001b[0m@  \u001b[1;32m492\u001b[0m \u001b[1;33mob\u001b[0m \u001b[34m 4 Jul  2018\u001b[0m \u001b[38;5;244m├──\u001b[0m progression-through-python.md\r\n",
      "\u001b[1;34md\u001b[33mr\u001b[31mw\u001b[32mx\u001b[0m\u001b[33mr\u001b[38;5;244m-\u001b[32mx\u001b[33mr\u001b[38;5;244m-\u001b[32mx\u001b[0m@    \u001b[38;5;244m-\u001b[0m \u001b[1;33mob\u001b[0m \u001b[34m 4 Apr  2018\u001b[0m \u001b[38;5;244m├──\u001b[0m \u001b[1;34mpycharm\u001b[0m\r\n",
      ".\u001b[1;33mr\u001b[31mw\u001b[0m\u001b[38;5;244m-\u001b[33mr\u001b[38;5;244m--\u001b[33mr\u001b[38;5;244m--\u001b[0m@  \u001b[1;32m605\u001b[0m \u001b[1;33mob\u001b[0m \u001b[34m 4 Apr  2017\u001b[0m \u001b[38;5;244m│  ├──\u001b[0m pycharm-multi-project.md\r\n",
      ".\u001b[1;33mr\u001b[31mw\u001b[0m\u001b[38;5;244m-\u001b[33mr\u001b[38;5;244m--\u001b[33mr\u001b[38;5;244m--\u001b[0m@  \u001b[1;32m822\u001b[0m \u001b[1;33mob\u001b[0m \u001b[34m 6 Jul  2018\u001b[0m \u001b[38;5;244m│  └──\u001b[0m pycharm-overview.md\r\n",
      ".\u001b[1;33mr\u001b[31mw\u001b[0m\u001b[38;5;244m-\u001b[33mr\u001b[38;5;244m--\u001b[33mr\u001b[38;5;244m--\u001b[0m@  \u001b[1;32m707\u001b[0m \u001b[1;33mob\u001b[0m \u001b[34m 2 Mai  2018\u001b[0m \u001b[38;5;244m├──\u001b[0m python-as-progression.md\r\n",
      ".\u001b[1;33mr\u001b[31mw\u001b[0m\u001b[38;5;244m-\u001b[33mr\u001b[38;5;244m--\u001b[33mr\u001b[38;5;244m--\u001b[0m@  \u001b[1;32m259\u001b[0m \u001b[1;33mob\u001b[0m \u001b[34m24 Mär  2017\u001b[0m \u001b[38;5;244m├──\u001b[0m releasing-with-devpi-and-tox.md\r\n",
      ".\u001b[1;33mr\u001b[31mw\u001b[0m\u001b[38;5;244m-\u001b[33mr\u001b[38;5;244m--\u001b[33mr\u001b[38;5;244m--\u001b[0m@  \u001b[1;32m428\u001b[0m \u001b[1;33mob\u001b[0m \u001b[34m 4 Apr  2018\u001b[0m \u001b[38;5;244m├──\u001b[0m syntax-errors-are-nothing-special.md\r\n",
      ".\u001b[1;33mr\u001b[31mw\u001b[0m\u001b[38;5;244m-\u001b[33mr\u001b[38;5;244m--\u001b[33mr\u001b[38;5;244m--\u001b[0m@  \u001b[1;32m287\u001b[0m \u001b[1;33mob\u001b[0m \u001b[34m 5 Apr  2018\u001b[0m \u001b[38;5;244m├──\u001b[0m syntax_error_container.py\r\n",
      ".\u001b[1;33mr\u001b[31mw\u001b[0m\u001b[38;5;244m-\u001b[33mr\u001b[38;5;244m--\u001b[33mr\u001b[38;5;244m--\u001b[0m@  \u001b[1;32m204\u001b[0m \u001b[1;33mob\u001b[0m \u001b[34m 5 Apr  2018\u001b[0m \u001b[38;5;244m├──\u001b[0m syntax_error_importer.py\r\n",
      ".\u001b[1;33mr\u001b[31mw\u001b[0m\u001b[38;5;244m-\u001b[33mr\u001b[38;5;244m--\u001b[33mr\u001b[38;5;244m--\u001b[0m@  \u001b[1;32m181\u001b[0m \u001b[1;33mob\u001b[0m \u001b[34m 4 Apr  2018\u001b[0m \u001b[38;5;244m├──\u001b[0m truthines-falsiness.md\r\n",
      ".\u001b[1;33mr\u001b[31mw\u001b[0m\u001b[38;5;244m-\u001b[33mr\u001b[38;5;244m--\u001b[33mr\u001b[38;5;244m--\u001b[0m@ \u001b[1;32m3.2\u001b[0m\u001b[32mk\u001b[0m \u001b[1;33mob\u001b[0m \u001b[34m25 Mär  2017\u001b[0m \u001b[38;5;244m└──\u001b[0m whole-lotta-python-versions-on-a-lotta-operating-systems.md\r\n"
     ]
    }
   ],
   "source": [
    "# terminal colours / line draw\n",
    "!exa -la --tree python"
   ]
  },
  {
   "cell_type": "code",
   "execution_count": 12,
   "metadata": {
    "slideshow": {
     "slide_type": "fragment"
    }
   },
   "outputs": [
    {
     "name": "stdout",
     "output_type": "stream",
     "text": [
      "This would be a syntax error in Python3.\n"
     ]
    }
   ],
   "source": [
    "%%python2\n",
    "\n",
    "# FIXME does not work for my stuff yet\n",
    "print \"This would be a syntax error in Python3.\""
   ]
  },
  {
   "cell_type": "code",
   "execution_count": 2,
   "metadata": {
    "pycharm": {
     "name": "#%%\n",
     "is_executing": false
    }
   },
   "outputs": [
    {
     "name": "stderr",
     "text": [
      "ModuleNotFoundError: No module named 'matplotlib'"
     ],
     "output_type": "stream"
    }
   ],
   "source": [
    "from matplotlib import pyplot as plt\n",
    "\n",
    "from ipywidgets import interact\n",
    "\n",
    "def pltsin(f):\n",
    "    plt.plot(timestamps,np.sin(2*np.pi*timestamps*f))\n",
    "\n",
    "# interactive widgets don't work\n",
    "# bug or not (yet) implemented?\n",
    "interact(pltsin,f=(0,10,1))"
   ]
  }
 ],
 "metadata": {
  "celltoolbar": "Slideshow",
  "kernelspec": {
   "display_name": "Python 3",
   "language": "python",
   "name": "python3"
  },
  "language_info": {
   "codemirror_mode": {
    "name": "ipython",
    "version": 3
   },
   "file_extension": ".py",
   "mimetype": "text/x-python",
   "name": "python",
   "nbconvert_exporter": "python",
   "pygments_lexer": "ipython3",
   "version": "3.6.9"
  },
  "pycharm": {
   "stem_cell": {
    "cell_type": "raw",
    "source": [],
    "metadata": {
     "collapsed": false
    }
   }
  },
  "varInspector": {
   "cols": {
    "lenName": 16,
    "lenType": 16,
    "lenVar": 40
   },
   "kernels_config": {
    "python": {
     "delete_cmd_postfix": "",
     "delete_cmd_prefix": "del ",
     "library": "var_list.py",
     "varRefreshCmd": "print(var_dic_list())"
    },
    "r": {
     "delete_cmd_postfix": ") ",
     "delete_cmd_prefix": "rm(",
     "library": "var_list.r",
     "varRefreshCmd": "cat(var_dic_list()) "
    }
   },
   "position": {
    "height": "413.017px",
    "left": "1274px",
    "right": "54.6667px",
    "top": "186px",
    "width": "431.333px"
   },
   "types_to_exclude": [
    "module",
    "function",
    "builtin_function_or_method",
    "instance",
    "_Feature"
   ],
   "window_display": false
  }
 },
 "nbformat": 4,
 "nbformat_minor": 2
}
