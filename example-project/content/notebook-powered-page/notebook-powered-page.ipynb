{
 "cells": [
  {
   "cell_type": "raw",
   "metadata": {},
   "source": [
    "\n",
    "title: About this Website\n",
    "---\n",
    "body:\n",
    "\n",
    "This is a pat of a cell, it will stay unchanged.\n"
   ]
  },
  {
   "cell_type": "markdown",
   "metadata": {},
   "source": [
    "# This page was rendered from a notebook. \n",
    "\n",
    "It only shows the basic functionality of executing and rendering a notebook into \n",
    "a contents.lr - no syntax highlighting or anything is provided as this is taken care of\n",
    "by other plugins. \n",
    "\n",
    "## This is a header in a markdown cell\n",
    "\n",
    "This is a paragraph in a markdown cell. It will be rendered and provides all kinds of fancy things."
   ]
  },
  {
   "cell_type": "code",
   "execution_count": null,
   "metadata": {
    "pycharm": {
     "name": "#%%\n"
    }
   },
   "outputs": [],
   "source": [
    "# this is a code cell containing Python code - it will be executed\n",
    "# and the output will be shown in the notebook\n",
    "print(\"I am the output of a code cell.\")\n",
    "2 + 5  # The evaluated result on the last line, will also be shown"
   ]
  },
  {
   "cell_type": "code",
   "execution_count": null,
   "metadata": {
    "pycharm": {
     "name": "#%%\n"
    }
   },
   "outputs": [],
   "source": [
    "from pathlib import Path\n",
    "\n",
    "# this will throw an exception - next cells will still be executed.\n",
    "Path(\"idontexist\").read_text()"
   ]
  },
  {
   "cell_type": "markdown",
   "metadata": {},
   "source": [
    "The next cell is populated via the IPython `%load` magic and also executed."
   ]
  },
  {
   "cell_type": "code",
   "execution_count": null,
   "metadata": {
    "pycharm": {
     "name": "#%%\n"
    }
   },
   "outputs": [],
   "source": [
    "%load a-module.py"
   ]
  },
  {
   "cell_type": "markdown",
   "metadata": {},
   "source": [
    "The next cell contains this additional metadata:\n",
    "\n",
    "```json\n",
    "{\n",
    "  \"JUPYTER_PREPROCESS\": {\n",
    "  \t\"metadata.execute\": false\n",
    "  }\n",
    "}\n",
    "```\n",
    "\n",
    "This will cause the next cell to load only and not be executed."
   ]
  },
  {
   "cell_type": "code",
   "execution_count": null,
   "metadata": {
    "JUPYTER_PREPROCESS": {
     "metadata.execute": false
    },
    "pycharm": {
     "name": "#%%\n"
    }
   },
   "outputs": [],
   "source": [
    "%load dont-execute-me.py"
   ]
  },
  {
   "cell_type": "markdown",
   "metadata": {},
   "source": [
    "End of the notebook."
   ]
  },
  {
   "cell_type": "code",
   "execution_count": null,
   "metadata": {
    "JUPYTER_PREPROCESS": {
     "metadata.execute": false
    }
   },
   "outputs": [],
   "source": [
    "This cell is a code cell but wouldn't even parse.\n",
    "\n",
    "It contains also metadata to not be executed"
   ]
  }
 ],
 "metadata": {
  "celltoolbar": "Edit Metadata",
  "kernelspec": {
   "display_name": "Python 3",
   "language": "python",
   "name": "python3"
  },
  "language_info": {
   "codemirror_mode": {
    "name": "ipython",
    "version": 3
   },
   "file_extension": ".py",
   "mimetype": "text/x-python",
   "name": "python",
   "nbconvert_exporter": "python",
   "pygments_lexer": "ipython3",
   "version": "3.6.9"
  },
  "pycharm": {
   "stem_cell": {
    "cell_type": "raw",
    "source": [],
    "metadata": {
     "collapsed": false
    }
   }
  }
 },
 "nbformat": 4,
 "nbformat_minor": 1
}
