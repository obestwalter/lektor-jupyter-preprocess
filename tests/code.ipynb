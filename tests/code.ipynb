{
 "cells": [
  {
   "cell_type": "raw",
   "metadata": {
    "pycharm": {
     "name": "#%% raw\n"
    }
   },
   "source": [
    "title: bla\n",
    "---\n",
    "cdate: 2019-11-9\n",
    "----\n",
    "content:"
   ]
  },
  {
   "cell_type": "code",
   "execution_count": null,
   "metadata": {
    "pycharm": {
     "name": "#%%\n"
    }
   },
   "outputs": [],
   "source": [
    "%load a-module.py"
   ]
  },
  {
   "cell_type": "code",
   "execution_count": 2,
   "metadata": {
    "pycharm": {
     "is_executing": false,
     "name": "#%%\n"
    }
   },
   "outputs": [
    {
     "data": {
      "text/plain": [
       "16"
      ]
     },
     "execution_count": 2,
     "metadata": {},
     "output_type": "execute_result"
    }
   ],
   "source": [
    "2 * 2 * 2 * 2  # single line code with single line output"
   ]
  },
  {
   "cell_type": "markdown",
   "metadata": {},
   "source": [
    "### Pack and unpack arguments"
   ]
  },
  {
   "cell_type": "code",
   "execution_count": 3,
   "metadata": {
    "pycharm": {
     "is_executing": false,
     "name": "#%%\n"
    }
   },
   "outputs": [
    {
     "name": "stdout",
     "output_type": "stream",
     "text": [
      "1 2 3 4\n"
     ]
    }
   ],
   "source": [
    "def foo(*args, **kwargs):\n",
    "    bar(*args, **kwargs)\n",
    "\n",
    "def bar(a, b, c=None, d=None):\n",
    "    print(a, b ,c, d)\n",
    "    \n",
    "foo(*[1, 2], **dict(c=3, d=4))"
   ]
  },
  {
   "cell_type": "code",
   "execution_count": 4,
   "metadata": {
    "pycharm": {
     "is_executing": false,
     "name": "#%%\n"
    }
   },
   "outputs": [
    {
     "name": "stdout",
     "output_type": "stream",
     "text": [
      "egg is <class 'str'>\n",
      "a, b, c  -> e g g\n",
      "*a, b = seq -> ['e', 'g'] g\n",
      "a, *b = seq -> e ['g', 'g']\n",
      "\n",
      "[1, 2, 3] is <class 'list'>\n",
      "a, b, c  -> 1 2 3\n",
      "*a, b = seq -> [1, 2] 3\n",
      "a, *b = seq -> 1 [2, 3]\n",
      "\n",
      "(1, 2, 3) is <class 'tuple'>\n",
      "a, b, c  -> 1 2 3\n",
      "*a, b = seq -> [1, 2] 3\n",
      "a, *b = seq -> 1 [2, 3]\n",
      "\n",
      "{1, 2, 3} is <class 'set'>\n",
      "a, b, c  -> 1 2 3\n",
      "*a, b = seq -> [1, 2] 3\n",
      "a, *b = seq -> 1 [2, 3]\n",
      "\n",
      "{1: 'a', 2: 'b', 3: 'c'} is <class 'dict'>\n",
      "a, b, c  -> 1 2 3\n",
      "*a, b = seq -> [1, 2] 3\n",
      "a, *b = seq -> 1 [2, 3]\n",
      "\n"
     ]
    }
   ],
   "source": [
    "for seq in [\"egg\", [1, 2, 3], (1, 2, 3), {1, 2, 3}, {1: 'a', 2: 'b', 3: 'c'}]:\n",
    "    print(f\"{seq} is {type(seq)}\")\n",
    "    a, b, c = seq\n",
    "    print(f\"a, b, c  -> {a} {b} {c}\")\n",
    "    *a, b = seq\n",
    "    print(f\"*a, b = seq -> {a} {b}\")\n",
    "    a, *b = seq\n",
    "    print(f\"a, *b = seq -> {a} {b}\\n\")"
   ]
  },
  {
   "cell_type": "code",
   "execution_count": 5,
   "metadata": {
    "pycharm": {
     "is_executing": false
    },
    "slideshow": {
     "slide_type": "fragment"
    }
   },
   "outputs": [],
   "source": [
    "a = {\"a\": 1, \"foo\": { \"a\": 1}}\n",
    "b = {\"a\": 1, \"foo\": { \"b\": 2, \"c\": 3}}\n",
    "# This will not merge the nested dict foo, but overwrite it"
   ]
  },
  {
   "cell_type": "code",
   "execution_count": 6,
   "metadata": {
    "pycharm": {
     "is_executing": false,
     "name": "#%%\n"
    }
   },
   "outputs": [
    {
     "ename": "Exception",
     "evalue": "BOOM!",
     "output_type": "error",
     "traceback": [
      "\u001b[0;31m---------------------------------------------------------------------------\u001b[0m",
      "\u001b[0;31mException\u001b[0m                                 Traceback (most recent call last)",
      "\u001b[0;32m<ipython-input-6-117237318e74>\u001b[0m in \u001b[0;36m<module>\u001b[0;34m\u001b[0m\n\u001b[0;32m----> 1\u001b[0;31m \u001b[0;32mraise\u001b[0m \u001b[0mException\u001b[0m\u001b[0;34m(\u001b[0m\u001b[0;34m\"BOOM!\"\u001b[0m\u001b[0;34m)\u001b[0m\u001b[0;34m\u001b[0m\u001b[0;34m\u001b[0m\u001b[0m\n\u001b[0m\u001b[1;32m      2\u001b[0m \u001b[0;34m\u001b[0m\u001b[0m\n\u001b[1;32m      3\u001b[0m \u001b[0;34m\u001b[0m\u001b[0m\n",
      "\u001b[0;31mException\u001b[0m: BOOM!"
     ]
    }
   ],
   "source": [
    "raise SyntaxError(\"NO OTHER OUTPUT!\")"
   ]
  },
  {
   "cell_type": "code",
   "execution_count": null,
   "metadata": {
    "pycharm": {
     "is_executing": false,
     "name": "#%%\n"
    }
   },
   "outputs": [],
   "source": [
    "print(\"Execution tolerates errors\")\n",
    "raise ValueError(\"BOOM WITH OTHER OUTPUTS!\")"
   ]
  },
  {
   "cell_type": "code",
   "execution_count": null,
   "metadata": {
    "pycharm": {
     "is_executing": false,
     "name": "#%%\n"
    },
    "slideshow": {
     "slide_type": "fragment"
    }
   },
   "outputs": [],
   "source": [
    "{**a, **b}"
   ]
  }
 ],
 "metadata": {
  "celltoolbar": "Slideshow",
  "kernelspec": {
   "display_name": "Python 3",
   "language": "python",
   "name": "python3"
  },
  "language_info": {
   "codemirror_mode": {
    "name": "ipython",
    "version": 3
   },
   "file_extension": ".py",
   "mimetype": "text/x-python",
   "name": "python",
   "nbconvert_exporter": "python",
   "pygments_lexer": "ipython3",
   "version": "3.6.9"
  },
  "pycharm": {
   "stem_cell": {
    "cell_type": "raw",
    "source": [],
    "metadata": {
     "collapsed": false
    }
   }
  },
  "varInspector": {
   "cols": {
    "lenName": 16,
    "lenType": 16,
    "lenVar": 40
   },
   "kernels_config": {
    "python": {
     "delete_cmd_postfix": "",
     "delete_cmd_prefix": "del ",
     "library": "var_list.py",
     "varRefreshCmd": "print(var_dic_list())"
    },
    "r": {
     "delete_cmd_postfix": ") ",
     "delete_cmd_prefix": "rm(",
     "library": "var_list.r",
     "varRefreshCmd": "cat(var_dic_list()) "
    }
   },
   "types_to_exclude": [
    "module",
    "function",
    "builtin_function_or_method",
    "instance",
    "_Feature"
   ],
   "window_display": false
  }
 },
 "nbformat": 4,
 "nbformat_minor": 2
}
